{
 "cells": [
  {
   "cell_type": "code",
   "execution_count": 24,
   "id": "3fbfa3df",
   "metadata": {},
   "outputs": [],
   "source": [
    "import pandas as pd"
   ]
  },
  {
   "cell_type": "code",
   "execution_count": 25,
   "id": "d5c0a903",
   "metadata": {},
   "outputs": [
    {
     "data": {
      "text/plain": [
       "'\\npandas - a powerful data analysis and manipulation library for Python\\n=====================================================================\\n\\n**pandas** is a Python package providing fast, flexible, and expressive data\\nstructures designed to make working with \"relational\" or \"labeled\" data both\\neasy and intuitive. It aims to be the fundamental high-level building block for\\ndoing practical, **real world** data analysis in Python. Additionally, it has\\nthe broader goal of becoming **the most powerful and flexible open source data\\nanalysis / manipulation tool available in any language**. It is already well on\\nits way toward this goal.\\n\\nMain Features\\n-------------\\nHere are just a few of the things that pandas does well:\\n\\n  - Easy handling of missing data in floating point as well as non-floating\\n    point data.\\n  - Size mutability: columns can be inserted and deleted from DataFrame and\\n    higher dimensional objects\\n  - Automatic and explicit data alignment: objects can be explicitly aligned\\n    to a set of labels, or the user can simply ignore the labels and let\\n    `Series`, `DataFrame`, etc. automatically align the data for you in\\n    computations.\\n  - Powerful, flexible group by functionality to perform split-apply-combine\\n    operations on data sets, for both aggregating and transforming data.\\n  - Make it easy to convert ragged, differently-indexed data in other Python\\n    and NumPy data structures into DataFrame objects.\\n  - Intelligent label-based slicing, fancy indexing, and subsetting of large\\n    data sets.\\n  - Intuitive merging and joining data sets.\\n  - Flexible reshaping and pivoting of data sets.\\n  - Hierarchical labeling of axes (possible to have multiple labels per tick).\\n  - Robust IO tools for loading data from flat files (CSV and delimited),\\n    Excel files, databases, and saving/loading data from the ultrafast HDF5\\n    format.\\n  - Time series-specific functionality: date range generation and frequency\\n    conversion, moving window statistics, date shifting and lagging.\\n'"
      ]
     },
     "execution_count": 25,
     "metadata": {},
     "output_type": "execute_result"
    }
   ],
   "source": [
    "pd.__doc__"
   ]
  },
  {
   "cell_type": "code",
   "execution_count": 26,
   "id": "2708450d",
   "metadata": {},
   "outputs": [
    {
     "name": "stdout",
     "output_type": "stream",
     "text": [
      "\n",
      "pandas - a powerful data analysis and manipulation library for Python\n",
      "=====================================================================\n",
      "\n",
      "**pandas** is a Python package providing fast, flexible, and expressive data\n",
      "structures designed to make working with \"relational\" or \"labeled\" data both\n",
      "easy and intuitive. It aims to be the fundamental high-level building block for\n",
      "doing practical, **real world** data analysis in Python. Additionally, it has\n",
      "the broader goal of becoming **the most powerful and flexible open source data\n",
      "analysis / manipulation tool available in any language**. It is already well on\n",
      "its way toward this goal.\n",
      "\n",
      "Main Features\n",
      "-------------\n",
      "Here are just a few of the things that pandas does well:\n",
      "\n",
      "  - Easy handling of missing data in floating point as well as non-floating\n",
      "    point data.\n",
      "  - Size mutability: columns can be inserted and deleted from DataFrame and\n",
      "    higher dimensional objects\n",
      "  - Automatic and explicit data alignment: objects can be explicitly aligned\n",
      "    to a set of labels, or the user can simply ignore the labels and let\n",
      "    `Series`, `DataFrame`, etc. automatically align the data for you in\n",
      "    computations.\n",
      "  - Powerful, flexible group by functionality to perform split-apply-combine\n",
      "    operations on data sets, for both aggregating and transforming data.\n",
      "  - Make it easy to convert ragged, differently-indexed data in other Python\n",
      "    and NumPy data structures into DataFrame objects.\n",
      "  - Intelligent label-based slicing, fancy indexing, and subsetting of large\n",
      "    data sets.\n",
      "  - Intuitive merging and joining data sets.\n",
      "  - Flexible reshaping and pivoting of data sets.\n",
      "  - Hierarchical labeling of axes (possible to have multiple labels per tick).\n",
      "  - Robust IO tools for loading data from flat files (CSV and delimited),\n",
      "    Excel files, databases, and saving/loading data from the ultrafast HDF5\n",
      "    format.\n",
      "  - Time series-specific functionality: date range generation and frequency\n",
      "    conversion, moving window statistics, date shifting and lagging.\n",
      "\n"
     ]
    }
   ],
   "source": [
    "print(pd.__doc__)"
   ]
  },
  {
   "cell_type": "code",
   "execution_count": 27,
   "id": "89d6f270",
   "metadata": {},
   "outputs": [
    {
     "data": {
      "text/plain": [
       "0    10\n",
       "1    20\n",
       "2    30\n",
       "3    40\n",
       "dtype: int64"
      ]
     },
     "execution_count": 27,
     "metadata": {},
     "output_type": "execute_result"
    }
   ],
   "source": [
    "pd.Series([10, 20, 30, 40])"
   ]
  },
  {
   "cell_type": "code",
   "execution_count": 28,
   "id": "29beddd8",
   "metadata": {},
   "outputs": [
    {
     "data": {
      "text/plain": [
       "0    10\n",
       "1    20\n",
       "2    30\n",
       "3    40\n",
       "dtype: int64"
      ]
     },
     "execution_count": 28,
     "metadata": {},
     "output_type": "execute_result"
    }
   ],
   "source": [
    "serie = pd.Series([10, 20, 30, 40])\n",
    "serie"
   ]
  },
  {
   "cell_type": "code",
   "execution_count": 29,
   "id": "0b6fbfe7",
   "metadata": {},
   "outputs": [
    {
     "data": {
      "text/plain": [
       "pandas.core.series.Series"
      ]
     },
     "execution_count": 29,
     "metadata": {},
     "output_type": "execute_result"
    }
   ],
   "source": [
    "type(serie)"
   ]
  },
  {
   "cell_type": "markdown",
   "id": "276ba773",
   "metadata": {},
   "source": [
    "# Tipul datelor (dtype)"
   ]
  },
  {
   "cell_type": "code",
   "execution_count": 30,
   "id": "1a26d3fa",
   "metadata": {},
   "outputs": [
    {
     "data": {
      "text/plain": [
       "dtype('int64')"
      ]
     },
     "execution_count": 30,
     "metadata": {},
     "output_type": "execute_result"
    }
   ],
   "source": [
    "serie.dtype "
   ]
  },
  {
   "cell_type": "code",
   "execution_count": 31,
   "id": "bf5e2461",
   "metadata": {},
   "outputs": [
    {
     "data": {
      "text/plain": [
       "np.int64(10)"
      ]
     },
     "execution_count": 31,
     "metadata": {},
     "output_type": "execute_result"
    }
   ],
   "source": [
    "serie[0]"
   ]
  },
  {
   "cell_type": "code",
   "execution_count": 32,
   "id": "7bb102ff",
   "metadata": {},
   "outputs": [
    {
     "data": {
      "text/plain": [
       "np.int64(40)"
      ]
     },
     "execution_count": 32,
     "metadata": {},
     "output_type": "execute_result"
    }
   ],
   "source": [
    "serie[3]"
   ]
  },
  {
   "cell_type": "code",
   "execution_count": 33,
   "id": "ccf6d4e8",
   "metadata": {},
   "outputs": [
    {
     "data": {
      "text/plain": [
       "0    10\n",
       "1    20\n",
       "dtype: int64"
      ]
     },
     "execution_count": 33,
     "metadata": {},
     "output_type": "execute_result"
    }
   ],
   "source": [
    "serie[0:2]"
   ]
  },
  {
   "cell_type": "code",
   "execution_count": 34,
   "id": "6ef46c44",
   "metadata": {},
   "outputs": [],
   "source": [
    "serie[0:2] = 888"
   ]
  },
  {
   "cell_type": "code",
   "execution_count": 35,
   "id": "553bdb0d",
   "metadata": {},
   "outputs": [
    {
     "data": {
      "text/plain": [
       "0    888\n",
       "1    888\n",
       "2     30\n",
       "3     40\n",
       "dtype: int64"
      ]
     },
     "execution_count": 35,
     "metadata": {},
     "output_type": "execute_result"
    }
   ],
   "source": [
    "serie"
   ]
  },
  {
   "cell_type": "code",
   "execution_count": 36,
   "id": "22269a51",
   "metadata": {},
   "outputs": [
    {
     "data": {
      "text/plain": [
       "count      4.0000\n",
       "mean     461.5000\n",
       "std      492.4967\n",
       "min       30.0000\n",
       "25%       37.5000\n",
       "50%      464.0000\n",
       "75%      888.0000\n",
       "max      888.0000\n",
       "dtype: float64"
      ]
     },
     "execution_count": 36,
     "metadata": {},
     "output_type": "execute_result"
    }
   ],
   "source": [
    "serie.describe()"
   ]
  },
  {
   "cell_type": "code",
   "execution_count": 37,
   "id": "d436a29b",
   "metadata": {},
   "outputs": [
    {
     "data": {
      "text/plain": [
       "18446744073709551616"
      ]
     },
     "execution_count": 37,
     "metadata": {},
     "output_type": "execute_result"
    }
   ],
   "source": [
    "# int64 \n",
    "2 ** 64  "
   ]
  },
  {
   "cell_type": "code",
   "execution_count": 38,
   "id": "3b0a6df4",
   "metadata": {},
   "outputs": [
    {
     "data": {
      "text/plain": [
       "'0b1111111111111111111111111111111111111111111111111111111111111111'"
      ]
     },
     "execution_count": 38,
     "metadata": {},
     "output_type": "execute_result"
    }
   ],
   "source": [
    "bin(2 ** 64 - 1)"
   ]
  },
  {
   "cell_type": "code",
   "execution_count": 39,
   "id": "76b64012",
   "metadata": {},
   "outputs": [
    {
     "data": {
      "text/plain": [
       "'0b11111111111111111111111111111111'"
      ]
     },
     "execution_count": 39,
     "metadata": {},
     "output_type": "execute_result"
    }
   ],
   "source": [
    "bin(2 ** 32 - 1)"
   ]
  },
  {
   "cell_type": "code",
   "execution_count": 40,
   "id": "7edcbdc4",
   "metadata": {},
   "outputs": [
    {
     "data": {
      "text/plain": [
       "4294967295"
      ]
     },
     "execution_count": 40,
     "metadata": {},
     "output_type": "execute_result"
    }
   ],
   "source": [
    "2 ** 32 - 1"
   ]
  },
  {
   "cell_type": "code",
   "execution_count": 41,
   "id": "ab906949",
   "metadata": {},
   "outputs": [],
   "source": [
    "serie[0] = 2 ** 32 - 1"
   ]
  },
  {
   "cell_type": "code",
   "execution_count": 42,
   "id": "eefabea8",
   "metadata": {},
   "outputs": [
    {
     "data": {
      "text/plain": [
       "0    4294967295\n",
       "1           888\n",
       "2            30\n",
       "3            40\n",
       "dtype: int64"
      ]
     },
     "execution_count": 42,
     "metadata": {},
     "output_type": "execute_result"
    }
   ],
   "source": [
    "serie"
   ]
  },
  {
   "cell_type": "code",
   "execution_count": 43,
   "id": "9b84fb8b",
   "metadata": {},
   "outputs": [],
   "source": [
    "serie[0] = 2 ** 63 - 1"
   ]
  },
  {
   "cell_type": "code",
   "execution_count": 44,
   "id": "1b3cbe44",
   "metadata": {},
   "outputs": [
    {
     "data": {
      "text/plain": [
       "9223372036854775807"
      ]
     },
     "execution_count": 44,
     "metadata": {},
     "output_type": "execute_result"
    }
   ],
   "source": [
    "2 ** 63 - 1"
   ]
  },
  {
   "cell_type": "markdown",
   "id": "a9f89c5f",
   "metadata": {},
   "source": [
    "# Numarul maxim ce poate fi reprezentat pe int64 este te 2**63-1\n",
    "# Numarul minim ce poate fi reprezentat pe int64 este te -2**63"
   ]
  },
  {
   "cell_type": "markdown",
   "id": "40cff6ef",
   "metadata": {},
   "source": [
    "Aici va da o eroare"
   ]
  },
  {
   "cell_type": "code",
   "execution_count": 45,
   "id": "fb7f4dad",
   "metadata": {},
   "outputs": [],
   "source": [
    "# serie[0] = 2 ** 63 "
   ]
  },
  {
   "cell_type": "markdown",
   "id": "ca871f72",
   "metadata": {},
   "source": [
    "# Pandas poate sa stocheze si string"
   ]
  },
  {
   "cell_type": "code",
   "execution_count": 51,
   "id": "5e2f1a79",
   "metadata": {},
   "outputs": [
    {
     "data": {
      "text/plain": [
       "0         alb\n",
       "1        rosu\n",
       "2       negru\n",
       "3       verde\n",
       "4    albastru\n",
       "dtype: object"
      ]
     },
     "execution_count": 51,
     "metadata": {},
     "output_type": "execute_result"
    }
   ],
   "source": [
    "serie_culori = pd.Series([\"alb\", \"rosu\", \"negru\", \"verde\", \"albastru\"])\n",
    "serie_culori "
   ]
  },
  {
   "cell_type": "code",
   "execution_count": 52,
   "id": "4fc0c08c",
   "metadata": {},
   "outputs": [
    {
     "data": {
      "text/plain": [
       "dtype('O')"
      ]
     },
     "execution_count": 52,
     "metadata": {},
     "output_type": "execute_result"
    }
   ],
   "source": [
    "serie_culori.dtype"
   ]
  },
  {
   "cell_type": "code",
   "execution_count": 53,
   "id": "a1d19209",
   "metadata": {},
   "outputs": [
    {
     "data": {
      "text/plain": [
       "0         alb\n",
       "4    albastru\n",
       "2       negru\n",
       "1        rosu\n",
       "3       verde\n",
       "dtype: object"
      ]
     },
     "execution_count": 53,
     "metadata": {},
     "output_type": "execute_result"
    }
   ],
   "source": [
    "serie_culori.sort_values()"
   ]
  },
  {
   "cell_type": "code",
   "execution_count": 49,
   "id": "1fdd6a12",
   "metadata": {},
   "outputs": [
    {
     "data": {
      "text/plain": [
       "0         alb\n",
       "1        rosu\n",
       "2       negru\n",
       "3       verde\n",
       "4    albastru\n",
       "dtype: object"
      ]
     },
     "execution_count": 49,
     "metadata": {},
     "output_type": "execute_result"
    }
   ],
   "source": [
    "serie_culori.sort_values(key=lambda x: x.str.len())"
   ]
  },
  {
   "cell_type": "code",
   "execution_count": 50,
   "id": "d6e97fc9",
   "metadata": {},
   "outputs": [
    {
     "data": {
      "text/plain": [
       "table    [alb, rosu, negru, verde, albastru]\n",
       "dtype: object"
      ]
     },
     "execution_count": 50,
     "metadata": {},
     "output_type": "execute_result"
    }
   ],
   "source": [
    "serie_culori_cu_nume = pd.Series({\"table\":[\"alb\", \"rosu\", \"negru\", \"verde\", \"albastru\"]})\n",
    "serie_culori_cu_nume \n",
    " "
   ]
  },
  {
   "cell_type": "code",
   "execution_count": null,
   "id": "420d4e55",
   "metadata": {},
   "outputs": [],
   "source": []
  }
 ],
 "metadata": {
  "kernelspec": {
   "display_name": "Python 3",
   "language": "python",
   "name": "python3"
  },
  "language_info": {
   "codemirror_mode": {
    "name": "ipython",
    "version": 3
   },
   "file_extension": ".py",
   "mimetype": "text/x-python",
   "name": "python",
   "nbconvert_exporter": "python",
   "pygments_lexer": "ipython3",
   "version": "3.13.7"
  }
 },
 "nbformat": 4,
 "nbformat_minor": 5
}
