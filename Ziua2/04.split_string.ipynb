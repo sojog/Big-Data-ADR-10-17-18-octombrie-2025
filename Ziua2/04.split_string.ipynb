{
 "cells": [
  {
   "cell_type": "code",
   "execution_count": 1,
   "id": "5b5f812e",
   "metadata": {},
   "outputs": [],
   "source": [
    "text = \"Hello,World,This,is,a,test\"\n",
    "\n"
   ]
  },
  {
   "cell_type": "code",
   "execution_count": 2,
   "id": "2af2c00c",
   "metadata": {},
   "outputs": [
    {
     "data": {
      "text/plain": [
       "['Hello,World,This,is,a,test']"
      ]
     },
     "execution_count": 2,
     "metadata": {},
     "output_type": "execute_result"
    }
   ],
   "source": [
    "text.split()"
   ]
  },
  {
   "cell_type": "code",
   "execution_count": 3,
   "id": "34702685",
   "metadata": {},
   "outputs": [
    {
     "data": {
      "text/plain": [
       "['Hello,World', 'This,is,a,test']"
      ]
     },
     "execution_count": 3,
     "metadata": {},
     "output_type": "execute_result"
    }
   ],
   "source": [
    "\"Hello,World This,is,a,test\".split()"
   ]
  },
  {
   "cell_type": "code",
   "execution_count": 4,
   "id": "5bc18fe4",
   "metadata": {},
   "outputs": [
    {
     "data": {
      "text/plain": [
       "['Hello', 'World This', 'is', 'a', 'test']"
      ]
     },
     "execution_count": 4,
     "metadata": {},
     "output_type": "execute_result"
    }
   ],
   "source": [
    "\"Hello,World This,is,a,test\".split(\",\")"
   ]
  },
  {
   "cell_type": "code",
   "execution_count": 5,
   "id": "aeae1035",
   "metadata": {},
   "outputs": [
    {
     "data": {
      "text/plain": [
       "['Hello', 'World This', 'is', 'a', 'test']"
      ]
     },
     "execution_count": 5,
     "metadata": {},
     "output_type": "execute_result"
    }
   ],
   "source": [
    "\"Hello,World This,is,a,test\".rsplit(\",\")"
   ]
  },
  {
   "cell_type": "code",
   "execution_count": 6,
   "id": "a4ebd01c",
   "metadata": {},
   "outputs": [
    {
     "data": {
      "text/plain": [
       "['Hello,World This,is,a', 'test']"
      ]
     },
     "execution_count": 6,
     "metadata": {},
     "output_type": "execute_result"
    }
   ],
   "source": [
    "\"Hello,World This,is,a,test\".rsplit(\",\", maxsplit=1)"
   ]
  },
  {
   "cell_type": "code",
   "execution_count": 7,
   "id": "5bc8fa21",
   "metadata": {},
   "outputs": [
    {
     "data": {
      "text/plain": [
       "['nume.prenume', 'pdf']"
      ]
     },
     "execution_count": 7,
     "metadata": {},
     "output_type": "execute_result"
    }
   ],
   "source": [
    "\"nume.prenume.pdf\".rsplit(\".\", maxsplit=1)"
   ]
  },
  {
   "cell_type": "code",
   "execution_count": 9,
   "id": "56b82906",
   "metadata": {},
   "outputs": [
    {
     "data": {
      "text/plain": [
       "True"
      ]
     },
     "execution_count": 9,
     "metadata": {},
     "output_type": "execute_result"
    }
   ],
   "source": [
    "\"nume.prenume.pdf\".endswith(\"pdf\")"
   ]
  },
  {
   "cell_type": "code",
   "execution_count": 10,
   "id": "740ff457",
   "metadata": {},
   "outputs": [
    {
     "data": {
      "text/plain": [
       "True"
      ]
     },
     "execution_count": 10,
     "metadata": {},
     "output_type": "execute_result"
    }
   ],
   "source": [
    "any ( [True, False, False])"
   ]
  },
  {
   "cell_type": "code",
   "execution_count": 11,
   "id": "a2b2c100",
   "metadata": {},
   "outputs": [
    {
     "data": {
      "text/plain": [
       "False"
      ]
     },
     "execution_count": 11,
     "metadata": {},
     "output_type": "execute_result"
    }
   ],
   "source": [
    "any ( [False, False, False])"
   ]
  },
  {
   "cell_type": "code",
   "execution_count": 12,
   "id": "a0dbb9f8",
   "metadata": {},
   "outputs": [
    {
     "data": {
      "text/plain": [
       "False"
      ]
     },
     "execution_count": 12,
     "metadata": {},
     "output_type": "execute_result"
    }
   ],
   "source": [
    "any(\"nume.prenume.pdf\".endswith(extension) for extension in [\"jpg\", \"png\", \"jpeg\"])"
   ]
  },
  {
   "cell_type": "code",
   "execution_count": 13,
   "id": "2e4ff75c",
   "metadata": {},
   "outputs": [
    {
     "data": {
      "text/plain": [
       "True"
      ]
     },
     "execution_count": 13,
     "metadata": {},
     "output_type": "execute_result"
    }
   ],
   "source": [
    "any(\"nume.prenume.pdf\".endswith(extension) for extension in [\"jpg\", \"png\", \"jpeg\", \"pdf\"])"
   ]
  },
  {
   "cell_type": "code",
   "execution_count": null,
   "id": "05261af5",
   "metadata": {},
   "outputs": [],
   "source": []
  }
 ],
 "metadata": {
  "kernelspec": {
   "display_name": "Python 3",
   "language": "python",
   "name": "python3"
  },
  "language_info": {
   "codemirror_mode": {
    "name": "ipython",
    "version": 3
   },
   "file_extension": ".py",
   "mimetype": "text/x-python",
   "name": "python",
   "nbconvert_exporter": "python",
   "pygments_lexer": "ipython3",
   "version": "3.13.7"
  }
 },
 "nbformat": 4,
 "nbformat_minor": 5
}
